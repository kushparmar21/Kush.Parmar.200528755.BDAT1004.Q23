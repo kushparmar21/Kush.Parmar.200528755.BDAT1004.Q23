{
 "cells": [
  {
   "cell_type": "markdown",
   "id": "61044f4b",
   "metadata": {},
   "source": [
    "# Question 23\n",
    "Develop a recursive function tough() that takes two nonnegative integer arguments and outputs a pattern as shown below. Hint: The first argument represents the indentation of the pattern, where the second argument -- always a pattern of 2 indicates the number *s in the longest line of *s in the pattern"
   ]
  },
  {
   "cell_type": "code",
   "execution_count": 5,
   "id": "f5248969",
   "metadata": {},
   "outputs": [
    {
     "name": "stdout",
     "output_type": "stream",
     "text": [
      "*\n"
     ]
    }
   ],
   "source": [
    "def tough(a, b):\n",
    "    if b == 1:\n",
    "        print(' ' * a + '*')\n",
    "    else:\n",
    "        tough(a + b // 2, b // 2)\n",
    "        print(' ' * a + '*' * b)\n",
    "        tough(a + b // 2, b // 2)\n",
    "        \n",
    "# Test the function with different parameters\n",
    "tough(0, 1)  # a 0, b 1"
   ]
  },
  {
   "cell_type": "code",
   "execution_count": 6,
   "id": "12f9dace",
   "metadata": {},
   "outputs": [
    {
     "name": "stdout",
     "output_type": "stream",
     "text": [
      " *\n",
      "**\n",
      " *\n"
     ]
    }
   ],
   "source": [
    "tough(0, 2)  # a 0, b 2"
   ]
  },
  {
   "cell_type": "code",
   "execution_count": 7,
   "id": "d082fc62",
   "metadata": {},
   "outputs": [
    {
     "name": "stdout",
     "output_type": "stream",
     "text": [
      "   *\n",
      "  **\n",
      "   *\n",
      "****\n",
      "   *\n",
      "  **\n",
      "   *\n"
     ]
    }
   ],
   "source": [
    "tough(0, 4)  # a 0, b 4"
   ]
  },
  {
   "cell_type": "code",
   "execution_count": null,
   "id": "b53de361",
   "metadata": {},
   "outputs": [],
   "source": []
  }
 ],
 "metadata": {
  "kernelspec": {
   "display_name": "Python 3 (ipykernel)",
   "language": "python",
   "name": "python3"
  },
  "language_info": {
   "codemirror_mode": {
    "name": "ipython",
    "version": 3
   },
   "file_extension": ".py",
   "mimetype": "text/x-python",
   "name": "python",
   "nbconvert_exporter": "python",
   "pygments_lexer": "ipython3",
   "version": "3.11.5"
  }
 },
 "nbformat": 4,
 "nbformat_minor": 5
}
